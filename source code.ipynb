{
  "cells": [
    {
      "cell_type": "code",
      "execution_count": null,
      "metadata": {
        "colab": {
          "base_uri": "https://localhost:8080/"
        },
        "id": "N5xRws2Cl1tn",
        "outputId": "378d13eb-1bbb-49e5-f4e4-b406277460dd"
      },
      "outputs": [
        {
          "name": "stdout",
          "output_type": "stream",
          "text": [
            "Welcome to the Intelligent Customer Support Chatbot!\n",
            "Type your questions or type 'exit' to end the chat.\n",
            "\n",
            "You: \"Are you open on weekends?\"\n",
            "Bot: Our customer support is available 24/7 to assist you anytime!\n"
          ]
        }
      ],
      "source": [
        "import re\n",
        "\n",
        "class IntelligentChatbot:\n",
        "    def __init__(self):\n",
        "        self.faq_responses = {\n",
        "            r'(?i)(hours|open|close|time)': \"Our customer support is available 24/7 to assist you anytime!\",\n",
        "            r'(?i)(return|refund|exchange)': (\n",
        "                \"You can return most items within 30 days of purchase. \"\n",
        "                \"Please visit our Return Policy page for more details.\"\n",
        "            ),\n",
        "            r'(?i)(shipping|delivery|track)': (\n",
        "                \"Shipping usually takes 5-7 business days. \"\n",
        "                \"You can track your order using the tracking number sent to your email.\"\n",
        "            ),\n",
        "            r'(?i)(price|cost|charge)': \"Prices vary by product. Please visit our website to view the latest prices.\",\n",
        "            r'(?i)(product|catalog|items)': \"We offer a wide range of products including electronics, apparel, and home goods.\",\n",
        "            r'(?i)(support|help|assist)': \"I'm here to help! Please ask your question or describe your issue.\",\n",
        "            r'(?i)(cancel|order)': \"You can cancel an order within 2 hours of placing it by visiting your orders page.\",\n",
        "            r'(?i)(thank|thanks)': \"You're welcome! If you have any more questions, feel free to ask.\",\n",
        "        }\n",
        "        self.exit_commands = ['exit', 'quit', 'bye', 'goodbye', 'stop']\n",
        "        self.greetings = [\"hello\", \"hi\", \"hey\", \"good morning\", \"good afternoon\", \"good evening\"]\n",
        "\n",
        "    def greet(self, user_input):\n",
        "        for greeting in self.greetings:\n",
        "            if greeting in user_input.lower():\n",
        "                return \"Hello! How can I assist you with your customer support needs today?\"\n",
        "        return None\n",
        "\n",
        "    def get_response(self, user_input):\n",
        "        # Check for exit commands\n",
        "        if user_input.lower() in self.exit_commands:\n",
        "            return \"Thank you for chatting with us. Have a great day!\", True\n",
        "\n",
        "        # Check for greeting\n",
        "        greeting_response = self.greet(user_input)\n",
        "        if greeting_response:\n",
        "            return greeting_response, False\n",
        "\n",
        "        # Look for matching FAQ pattern\n",
        "        for pattern, response in self.faq_responses.items():\n",
        "            if re.search(pattern, user_input):\n",
        "                return response, False\n",
        "\n",
        "        # If no match, offer to transfer to human agent\n",
        "        return (\n",
        "            \"I'm sorry, I couldn't understand your question completely. \"\n",
        "            \"Let me connect you to a human agent who can better assist you.\"\n",
        "            , True\n",
        "        )\n",
        "\n",
        "    def chat(self):\n",
        "        print(\"Welcome to the Intelligent Customer Support Chatbot!\")\n",
        "        print(\"Type your questions or type 'exit' to end the chat.\\n\")\n",
        "\n",
        "        while True:\n",
        "            user_input = input(\"You: \").strip()\n",
        "            if not user_input:\n",
        "                print(\"Bot: Please enter a valid question or type 'exit' to quit.\")\n",
        "                continue\n",
        "\n",
        "            response, end_chat = self.get_response(user_input)\n",
        "            print(\"Bot:\", response)\n",
        "            if end_chat:\n",
        "                break\n",
        "\n",
        "if __name__ == '__main__':\n",
        "    bot = IntelligentChatbot()\n",
        "    bot.chat()\n",
        "\n"
      ]
    }
  ],
  "metadata": {
    "colab": {
      "provenance": []
    },
    "kernelspec": {
      "display_name": "Python 3",
      "name": "python3"
    },
    "language_info": {
      "name": "python"
    }
  },
  "nbformat": 4,
  "nbformat_minor": 0
}
